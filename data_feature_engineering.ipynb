{
 "cells": [
  {
   "cell_type": "markdown",
   "metadata": {},
   "source": [
    "# Data Feature Engineering"
   ]
  },
  {
   "cell_type": "markdown",
   "metadata": {},
   "source": [
    "After doing some basic data exploration, we have: \n",
    "* noticed that we need to engineer our existing features in order to get more insight about the GameDuration variable that we are trying to predict.\n",
    "* observed some possible skewness in the continuous variables and the need for some feature scaling\n",
    "* spoted some outliers in the continuous variables\n",
    "\n",
    "We are going to answer those problematics in this first Step of feature engineering (I. Basic Feature Engineering)"
   ]
  },
  {
   "cell_type": "code",
   "execution_count": 2,
   "metadata": {},
   "outputs": [],
   "source": [
    "# Necessary librairies\n",
    "import pandas as pd \n",
    "import numpy as np \n",
    "import matplotlib.pyplot as plt\n",
    "import seaborn as sns\n",
    "%matplotlib inline"
   ]
  },
  {
   "cell_type": "markdown",
   "metadata": {},
   "source": [
    "## I. Basic Feature Engineering"
   ]
  },
  {
   "cell_type": "code",
   "execution_count": 3,
   "metadata": {},
   "outputs": [],
   "source": [
    "# import our dataset\n",
    "df = pd.read_csv('./data/league_data_cleaned_10min.csv')\n",
    "df.sample(10)\n",
    "df = df.drop(columns='Unnamed: 0', axis=1)"
   ]
  },
  {
   "cell_type": "code",
   "execution_count": 4,
   "metadata": {
    "scrolled": false
   },
   "outputs": [
    {
     "data": {
      "text/plain": [
       "Index(['gameId', 'blueWins', 'blueWardsPlaced', 'blueWardsDestroyed',\n",
       "       'blueFirstBlood', 'blueKills', 'blueDeaths', 'blueAssists',\n",
       "       'blueEliteMonsters', 'blueDragons', 'blueHeralds',\n",
       "       'blueTowersDestroyed', 'blueTotalGold', 'blueAvgLevel',\n",
       "       'blueTotalExperience', 'blueTotalMinionsKilled',\n",
       "       'blueTotalJungleMinionsKilled', 'blueGoldDiff', 'blueExperienceDiff',\n",
       "       'blueCSPerMin', 'blueGoldPerMin', 'redWardsPlaced', 'redWardsDestroyed',\n",
       "       'redFirstBlood', 'redKills', 'redDeaths', 'redAssists',\n",
       "       'redEliteMonsters', 'redDragons', 'redHeralds', 'redTowersDestroyed',\n",
       "       'redTotalGold', 'redAvgLevel', 'redTotalExperience',\n",
       "       'redTotalMinionsKilled', 'redTotalJungleMinionsKilled', 'redGoldDiff',\n",
       "       'redExperienceDiff', 'redCSPerMin', 'redGoldPerMin', 'GameDuration'],\n",
       "      dtype='object')"
      ]
     },
     "execution_count": 4,
     "metadata": {},
     "output_type": "execute_result"
    }
   ],
   "source": [
    "df.columns"
   ]
  },
  {
   "cell_type": "markdown",
   "metadata": {},
   "source": [
    "Let's start by removing features which obviously (based on my knowledge of the game) won't help at prediction / analyzing the game duration of the games. \n",
    "* gameId\n",
    "* blueWins"
   ]
  },
  {
   "cell_type": "code",
   "execution_count": 5,
   "metadata": {},
   "outputs": [],
   "source": [
    "df_fe = df.drop(columns=['gameId', 'blueWins'], axis=1)\n"
   ]
  },
  {
   "cell_type": "markdown",
   "metadata": {},
   "source": [
    "### 1. Transformation of existing feature into new more insighful ones"
   ]
  },
  {
   "cell_type": "markdown",
   "metadata": {},
   "source": [
    "We are interested in the different of performance between the two teams (The greater the difference the lower we can expect the game duration to be).\n",
    "Therefore we might want to replace all the variables blue__ / red__  by teamDiff__ (ex: replace redKills and blueKills\n",
    "by teamDiffKills = abs(redKills-blueKills))"
   ]
  },
  {
   "cell_type": "code",
   "execution_count": 6,
   "metadata": {},
   "outputs": [],
   "source": [
    "# blueWardsPlaced / redWardsPlaced -> teamDiffWardsPlaced\n",
    "# blueWardsDestroyed / redWardsDestroyed -> teamDiffWardsDestroyed\n",
    "# blueKills / redKills -> teamDiffKills\n",
    "# blueEliteMonsters / redEliteMonsters -> teamDiffEliteMonsters\n",
    "# etc."
   ]
  },
  {
   "cell_type": "code",
   "execution_count": 7,
   "metadata": {},
   "outputs": [],
   "source": [
    "df_fe = df_fe.reindex(sorted(df_fe.columns), axis=1)"
   ]
  },
  {
   "cell_type": "code",
   "execution_count": 8,
   "metadata": {},
   "outputs": [],
   "source": [
    "# make some lists of red and blue variable so we can create the teamDiff__ variables by iteration\n",
    "blue_var = [x for x in df_fe.columns if 'blue' in x]\n",
    "red_var = [x for x in df_fe.columns if 'red' in x]"
   ]
  },
  {
   "cell_type": "code",
   "execution_count": 9,
   "metadata": {},
   "outputs": [
    {
     "data": {
      "text/html": [
       "<div>\n",
       "<style scoped>\n",
       "    .dataframe tbody tr th:only-of-type {\n",
       "        vertical-align: middle;\n",
       "    }\n",
       "\n",
       "    .dataframe tbody tr th {\n",
       "        vertical-align: top;\n",
       "    }\n",
       "\n",
       "    .dataframe thead th {\n",
       "        text-align: right;\n",
       "    }\n",
       "</style>\n",
       "<table border=\"1\" class=\"dataframe\">\n",
       "  <thead>\n",
       "    <tr style=\"text-align: right;\">\n",
       "      <th></th>\n",
       "      <th>GameDuration</th>\n",
       "      <th>blueAssists</th>\n",
       "      <th>blueAvgLevel</th>\n",
       "      <th>blueCSPerMin</th>\n",
       "      <th>blueDeaths</th>\n",
       "      <th>blueDragons</th>\n",
       "      <th>blueEliteMonsters</th>\n",
       "      <th>blueExperienceDiff</th>\n",
       "      <th>blueFirstBlood</th>\n",
       "      <th>blueGoldDiff</th>\n",
       "      <th>...</th>\n",
       "      <th>teamDiffGoldPerMin</th>\n",
       "      <th>teamDiffHeralds</th>\n",
       "      <th>teamDiffKills</th>\n",
       "      <th>teamDiffTotalExperience</th>\n",
       "      <th>teamDiffTotalGold</th>\n",
       "      <th>teamDiffTotalJungleMinionsKilled</th>\n",
       "      <th>teamDiffTotalMinionsKilled</th>\n",
       "      <th>teamDiffTowersDestroyed</th>\n",
       "      <th>teamDiffWardsDestroyed</th>\n",
       "      <th>teamDiffWardsPlaced</th>\n",
       "    </tr>\n",
       "  </thead>\n",
       "  <tbody>\n",
       "    <tr>\n",
       "      <th>0</th>\n",
       "      <td>32.0</td>\n",
       "      <td>11</td>\n",
       "      <td>6.6</td>\n",
       "      <td>19.5</td>\n",
       "      <td>6</td>\n",
       "      <td>0</td>\n",
       "      <td>0</td>\n",
       "      <td>-8</td>\n",
       "      <td>1</td>\n",
       "      <td>643</td>\n",
       "      <td>...</td>\n",
       "      <td>64.3</td>\n",
       "      <td>0</td>\n",
       "      <td>3</td>\n",
       "      <td>8</td>\n",
       "      <td>643</td>\n",
       "      <td>19</td>\n",
       "      <td>2</td>\n",
       "      <td>0</td>\n",
       "      <td>4</td>\n",
       "      <td>13</td>\n",
       "    </tr>\n",
       "    <tr>\n",
       "      <th>1</th>\n",
       "      <td>19.0</td>\n",
       "      <td>5</td>\n",
       "      <td>6.6</td>\n",
       "      <td>17.4</td>\n",
       "      <td>5</td>\n",
       "      <td>0</td>\n",
       "      <td>0</td>\n",
       "      <td>-1173</td>\n",
       "      <td>0</td>\n",
       "      <td>-2908</td>\n",
       "      <td>...</td>\n",
       "      <td>290.8</td>\n",
       "      <td>1</td>\n",
       "      <td>0</td>\n",
       "      <td>1173</td>\n",
       "      <td>2908</td>\n",
       "      <td>9</td>\n",
       "      <td>66</td>\n",
       "      <td>1</td>\n",
       "      <td>0</td>\n",
       "      <td>0</td>\n",
       "    </tr>\n",
       "    <tr>\n",
       "      <th>2</th>\n",
       "      <td>32.0</td>\n",
       "      <td>4</td>\n",
       "      <td>6.4</td>\n",
       "      <td>18.6</td>\n",
       "      <td>11</td>\n",
       "      <td>1</td>\n",
       "      <td>1</td>\n",
       "      <td>-1033</td>\n",
       "      <td>0</td>\n",
       "      <td>-1172</td>\n",
       "      <td>...</td>\n",
       "      <td>117.2</td>\n",
       "      <td>0</td>\n",
       "      <td>4</td>\n",
       "      <td>1033</td>\n",
       "      <td>1172</td>\n",
       "      <td>18</td>\n",
       "      <td>17</td>\n",
       "      <td>0</td>\n",
       "      <td>3</td>\n",
       "      <td>0</td>\n",
       "    </tr>\n",
       "    <tr>\n",
       "      <th>3</th>\n",
       "      <td>23.0</td>\n",
       "      <td>5</td>\n",
       "      <td>7.0</td>\n",
       "      <td>20.1</td>\n",
       "      <td>5</td>\n",
       "      <td>0</td>\n",
       "      <td>1</td>\n",
       "      <td>-7</td>\n",
       "      <td>0</td>\n",
       "      <td>-1321</td>\n",
       "      <td>...</td>\n",
       "      <td>132.1</td>\n",
       "      <td>1</td>\n",
       "      <td>1</td>\n",
       "      <td>7</td>\n",
       "      <td>1321</td>\n",
       "      <td>8</td>\n",
       "      <td>34</td>\n",
       "      <td>0</td>\n",
       "      <td>1</td>\n",
       "      <td>28</td>\n",
       "    </tr>\n",
       "    <tr>\n",
       "      <th>4</th>\n",
       "      <td>27.0</td>\n",
       "      <td>6</td>\n",
       "      <td>7.0</td>\n",
       "      <td>21.0</td>\n",
       "      <td>6</td>\n",
       "      <td>0</td>\n",
       "      <td>0</td>\n",
       "      <td>230</td>\n",
       "      <td>0</td>\n",
       "      <td>-1004</td>\n",
       "      <td>...</td>\n",
       "      <td>100.4</td>\n",
       "      <td>0</td>\n",
       "      <td>0</td>\n",
       "      <td>230</td>\n",
       "      <td>1004</td>\n",
       "      <td>10</td>\n",
       "      <td>15</td>\n",
       "      <td>0</td>\n",
       "      <td>2</td>\n",
       "      <td>58</td>\n",
       "    </tr>\n",
       "  </tbody>\n",
       "</table>\n",
       "<p>5 rows × 58 columns</p>\n",
       "</div>"
      ],
      "text/plain": [
       "   GameDuration  blueAssists  blueAvgLevel  blueCSPerMin  blueDeaths  \\\n",
       "0          32.0           11           6.6          19.5           6   \n",
       "1          19.0            5           6.6          17.4           5   \n",
       "2          32.0            4           6.4          18.6          11   \n",
       "3          23.0            5           7.0          20.1           5   \n",
       "4          27.0            6           7.0          21.0           6   \n",
       "\n",
       "   blueDragons  blueEliteMonsters  blueExperienceDiff  blueFirstBlood  \\\n",
       "0            0                  0                  -8               1   \n",
       "1            0                  0               -1173               0   \n",
       "2            1                  1               -1033               0   \n",
       "3            0                  1                  -7               0   \n",
       "4            0                  0                 230               0   \n",
       "\n",
       "   blueGoldDiff  ...  teamDiffGoldPerMin  teamDiffHeralds  teamDiffKills  \\\n",
       "0           643  ...                64.3                0              3   \n",
       "1         -2908  ...               290.8                1              0   \n",
       "2         -1172  ...               117.2                0              4   \n",
       "3         -1321  ...               132.1                1              1   \n",
       "4         -1004  ...               100.4                0              0   \n",
       "\n",
       "   teamDiffTotalExperience  teamDiffTotalGold  \\\n",
       "0                        8                643   \n",
       "1                     1173               2908   \n",
       "2                     1033               1172   \n",
       "3                        7               1321   \n",
       "4                      230               1004   \n",
       "\n",
       "   teamDiffTotalJungleMinionsKilled  teamDiffTotalMinionsKilled  \\\n",
       "0                                19                           2   \n",
       "1                                 9                          66   \n",
       "2                                18                          17   \n",
       "3                                 8                          34   \n",
       "4                                10                          15   \n",
       "\n",
       "   teamDiffTowersDestroyed  teamDiffWardsDestroyed  teamDiffWardsPlaced  \n",
       "0                        0                       4                   13  \n",
       "1                        1                       0                    0  \n",
       "2                        0                       3                    0  \n",
       "3                        0                       1                   28  \n",
       "4                        0                       2                   58  \n",
       "\n",
       "[5 rows x 58 columns]"
      ]
     },
     "execution_count": 9,
     "metadata": {},
     "output_type": "execute_result"
    }
   ],
   "source": [
    "for b, r in zip(blue_var, red_var):\n",
    "    name_vr = 'teamDiff'+b[4:] # create the names of the new variables adding the word after 'blue' in the orignal feature\n",
    "    df_fe[name_vr] = abs(df_fe[b] - df_fe[r])\n",
    "df_fe.head()"
   ]
  },
  {
   "cell_type": "markdown",
   "metadata": {},
   "source": [
    "Using this procedure we created a few unfortunate columns we need to drop:\n",
    "- teamDiffExperienceDiff \n",
    "- teamDiffFirstBlood\n",
    "- teamDiffGoldDiff"
   ]
  },
  {
   "cell_type": "code",
   "execution_count": 10,
   "metadata": {},
   "outputs": [],
   "source": [
    "df_fe = df_fe.drop(columns=['teamDiffExperienceDiff', 'teamDiffFirstBlood', 'teamDiffGoldDiff'], axis=1)"
   ]
  },
  {
   "cell_type": "code",
   "execution_count": 11,
   "metadata": {},
   "outputs": [],
   "source": [
    "# Creation of a EarlyGameLead feature : 1 if the team which did First Blood is also the one with the highest total gold at the\n",
    "# 10 first minutes else 0\n",
    "cond = ((df_fe['blueFirstBlood'] == 1) & (df_fe['blueGoldDiff'] > 0)) | ((df_fe['redFirstBlood'] == 1) & (df_fe['redGoldDiff'] > 0))\n",
    "df_fe['EarlyGameLead'] = np.where(cond, 1, 0)"
   ]
  },
  {
   "cell_type": "code",
   "execution_count": 12,
   "metadata": {},
   "outputs": [],
   "source": [
    "# Now we can drop the original red/blue features which don't provide more useful information (that the teamDiff variables); "
   ]
  },
  {
   "cell_type": "code",
   "execution_count": 13,
   "metadata": {},
   "outputs": [],
   "source": [
    "removing_var = [f for f in blue_var + red_var]"
   ]
  },
  {
   "cell_type": "code",
   "execution_count": 14,
   "metadata": {},
   "outputs": [],
   "source": [
    "df_fe = df_fe.drop(columns=removing_var, axis=1)"
   ]
  },
  {
   "cell_type": "markdown",
   "metadata": {},
   "source": [
    "We save the new dataframe of new features:"
   ]
  },
  {
   "cell_type": "code",
   "execution_count": 15,
   "metadata": {},
   "outputs": [],
   "source": [
    "df_fe.to_csv('./data/data_basic_fe.csv', index=False)"
   ]
  },
  {
   "cell_type": "markdown",
   "metadata": {},
   "source": [
    "Now that we have created some new features and droped the old ones, we want to perform a bit of data exploration on those to spot some possible skewness / outliers and evaluate how insighful they are. So we go back to some **data exploration** before continuing the feature engineering."
   ]
  },
  {
   "cell_type": "markdown",
   "metadata": {},
   "source": [
    "## II. Feature Engineering part 2"
   ]
  },
  {
   "cell_type": "markdown",
   "metadata": {},
   "source": [
    "Given our new dataset with mire insighful features, we are now ready to detect and remove outliers. \n",
    "Then we will perform some feature transformation in order to improve the performance of our machine learning model."
   ]
  },
  {
   "cell_type": "markdown",
   "metadata": {},
   "source": [
    "### 1. Outlier detection and removal"
   ]
  },
  {
   "cell_type": "code",
   "execution_count": 16,
   "metadata": {},
   "outputs": [
    {
     "data": {
      "text/html": [
       "<div>\n",
       "<style scoped>\n",
       "    .dataframe tbody tr th:only-of-type {\n",
       "        vertical-align: middle;\n",
       "    }\n",
       "\n",
       "    .dataframe tbody tr th {\n",
       "        vertical-align: top;\n",
       "    }\n",
       "\n",
       "    .dataframe thead th {\n",
       "        text-align: right;\n",
       "    }\n",
       "</style>\n",
       "<table border=\"1\" class=\"dataframe\">\n",
       "  <thead>\n",
       "    <tr style=\"text-align: right;\">\n",
       "      <th></th>\n",
       "      <th>GameDuration</th>\n",
       "      <th>teamDiffAssists</th>\n",
       "      <th>teamDiffAvgLevel</th>\n",
       "      <th>teamDiffCSPerMin</th>\n",
       "      <th>teamDiffDeaths</th>\n",
       "      <th>teamDiffDragons</th>\n",
       "      <th>teamDiffEliteMonsters</th>\n",
       "      <th>teamDiffGoldPerMin</th>\n",
       "      <th>teamDiffHeralds</th>\n",
       "      <th>teamDiffKills</th>\n",
       "      <th>teamDiffTotalExperience</th>\n",
       "      <th>teamDiffTotalGold</th>\n",
       "      <th>teamDiffTotalJungleMinionsKilled</th>\n",
       "      <th>teamDiffTotalMinionsKilled</th>\n",
       "      <th>teamDiffTowersDestroyed</th>\n",
       "      <th>teamDiffWardsDestroyed</th>\n",
       "      <th>teamDiffWardsPlaced</th>\n",
       "      <th>EarlyGameLead</th>\n",
       "    </tr>\n",
       "  </thead>\n",
       "  <tbody>\n",
       "    <tr>\n",
       "      <th>0</th>\n",
       "      <td>32.0</td>\n",
       "      <td>3</td>\n",
       "      <td>0.2</td>\n",
       "      <td>0.2</td>\n",
       "      <td>3</td>\n",
       "      <td>0</td>\n",
       "      <td>0</td>\n",
       "      <td>64.3</td>\n",
       "      <td>0</td>\n",
       "      <td>3</td>\n",
       "      <td>8</td>\n",
       "      <td>643</td>\n",
       "      <td>19</td>\n",
       "      <td>2</td>\n",
       "      <td>0</td>\n",
       "      <td>4</td>\n",
       "      <td>13</td>\n",
       "      <td>1</td>\n",
       "    </tr>\n",
       "    <tr>\n",
       "      <th>1</th>\n",
       "      <td>19.0</td>\n",
       "      <td>3</td>\n",
       "      <td>0.2</td>\n",
       "      <td>6.6</td>\n",
       "      <td>0</td>\n",
       "      <td>1</td>\n",
       "      <td>2</td>\n",
       "      <td>290.8</td>\n",
       "      <td>1</td>\n",
       "      <td>0</td>\n",
       "      <td>1173</td>\n",
       "      <td>2908</td>\n",
       "      <td>9</td>\n",
       "      <td>66</td>\n",
       "      <td>1</td>\n",
       "      <td>0</td>\n",
       "      <td>0</td>\n",
       "      <td>1</td>\n",
       "    </tr>\n",
       "    <tr>\n",
       "      <th>2</th>\n",
       "      <td>32.0</td>\n",
       "      <td>10</td>\n",
       "      <td>0.4</td>\n",
       "      <td>1.7</td>\n",
       "      <td>4</td>\n",
       "      <td>1</td>\n",
       "      <td>1</td>\n",
       "      <td>117.2</td>\n",
       "      <td>0</td>\n",
       "      <td>4</td>\n",
       "      <td>1033</td>\n",
       "      <td>1172</td>\n",
       "      <td>18</td>\n",
       "      <td>17</td>\n",
       "      <td>0</td>\n",
       "      <td>3</td>\n",
       "      <td>0</td>\n",
       "      <td>1</td>\n",
       "    </tr>\n",
       "    <tr>\n",
       "      <th>3</th>\n",
       "      <td>23.0</td>\n",
       "      <td>5</td>\n",
       "      <td>0.0</td>\n",
       "      <td>3.4</td>\n",
       "      <td>1</td>\n",
       "      <td>0</td>\n",
       "      <td>1</td>\n",
       "      <td>132.1</td>\n",
       "      <td>1</td>\n",
       "      <td>1</td>\n",
       "      <td>7</td>\n",
       "      <td>1321</td>\n",
       "      <td>8</td>\n",
       "      <td>34</td>\n",
       "      <td>0</td>\n",
       "      <td>1</td>\n",
       "      <td>28</td>\n",
       "      <td>1</td>\n",
       "    </tr>\n",
       "    <tr>\n",
       "      <th>4</th>\n",
       "      <td>27.0</td>\n",
       "      <td>1</td>\n",
       "      <td>0.0</td>\n",
       "      <td>1.5</td>\n",
       "      <td>0</td>\n",
       "      <td>1</td>\n",
       "      <td>1</td>\n",
       "      <td>100.4</td>\n",
       "      <td>0</td>\n",
       "      <td>0</td>\n",
       "      <td>230</td>\n",
       "      <td>1004</td>\n",
       "      <td>10</td>\n",
       "      <td>15</td>\n",
       "      <td>0</td>\n",
       "      <td>2</td>\n",
       "      <td>58</td>\n",
       "      <td>1</td>\n",
       "    </tr>\n",
       "  </tbody>\n",
       "</table>\n",
       "</div>"
      ],
      "text/plain": [
       "   GameDuration  teamDiffAssists  teamDiffAvgLevel  teamDiffCSPerMin  \\\n",
       "0          32.0                3               0.2               0.2   \n",
       "1          19.0                3               0.2               6.6   \n",
       "2          32.0               10               0.4               1.7   \n",
       "3          23.0                5               0.0               3.4   \n",
       "4          27.0                1               0.0               1.5   \n",
       "\n",
       "   teamDiffDeaths  teamDiffDragons  teamDiffEliteMonsters  teamDiffGoldPerMin  \\\n",
       "0               3                0                      0                64.3   \n",
       "1               0                1                      2               290.8   \n",
       "2               4                1                      1               117.2   \n",
       "3               1                0                      1               132.1   \n",
       "4               0                1                      1               100.4   \n",
       "\n",
       "   teamDiffHeralds  teamDiffKills  teamDiffTotalExperience  teamDiffTotalGold  \\\n",
       "0                0              3                        8                643   \n",
       "1                1              0                     1173               2908   \n",
       "2                0              4                     1033               1172   \n",
       "3                1              1                        7               1321   \n",
       "4                0              0                      230               1004   \n",
       "\n",
       "   teamDiffTotalJungleMinionsKilled  teamDiffTotalMinionsKilled  \\\n",
       "0                                19                           2   \n",
       "1                                 9                          66   \n",
       "2                                18                          17   \n",
       "3                                 8                          34   \n",
       "4                                10                          15   \n",
       "\n",
       "   teamDiffTowersDestroyed  teamDiffWardsDestroyed  teamDiffWardsPlaced  \\\n",
       "0                        0                       4                   13   \n",
       "1                        1                       0                    0   \n",
       "2                        0                       3                    0   \n",
       "3                        0                       1                   28   \n",
       "4                        0                       2                   58   \n",
       "\n",
       "   EarlyGameLead  \n",
       "0              1  \n",
       "1              1  \n",
       "2              1  \n",
       "3              1  \n",
       "4              1  "
      ]
     },
     "execution_count": 16,
     "metadata": {},
     "output_type": "execute_result"
    }
   ],
   "source": [
    "df_fe.head()"
   ]
  },
  {
   "cell_type": "code",
   "execution_count": 17,
   "metadata": {},
   "outputs": [],
   "source": [
    "# Seperate categorical (any feature w/ unique values =< 10) from continuous variables\n",
    "categorical_variables = [feature for feature in df_fe.columns if len(df_fe[feature].unique()) <= 10]\n",
    "continuous_variables = [feature for feature in df_fe.columns if len(df_fe[feature].unique()) > 10]"
   ]
  },
  {
   "cell_type": "code",
   "execution_count": 18,
   "metadata": {},
   "outputs": [
    {
     "data": {
      "image/png": "[encoded data removed]",
      "text/plain": [
       "<Figure size 432x288 with 1 Axes>"
      ]
     },
     "metadata": {
      "needs_background": "light"
     },
     "output_type": "display_data"
    },
    {
     "data": {
      "image/png": "[encoded data removed]",
      "text/plain": [
       "<Figure size 432x288 with 1 Axes>"
      ]
     },
     "metadata": {
      "needs_background": "light"
     },
     "output_type": "display_data"
    },
    {
     "data": {
      "image/png": "[encoded data removed]",
      "text/plain": [
       "<Figure size 432x288 with 1 Axes>"
      ]
     },
     "metadata": {
      "needs_background": "light"
     },
     "output_type": "display_data"
    },
    {
     "data": {
      "image/png": "[encoded data removed]",
      "text/plain": [
       "<Figure size 432x288 with 1 Axes>"
      ]
     },
     "metadata": {
      "needs_background": "light"
     },
     "output_type": "display_data"
    },
    {
     "data": {
      "image/png": "[encoded data removed]",
      "text/plain": [
       "<Figure size 432x288 with 1 Axes>"
      ]
     },
     "metadata": {
      "needs_background": "light"
     },
     "output_type": "display_data"
    },
    {
     "data": {
      "image/png": "[encoded data removed]",
      "text/plain": [
       "<Figure size 432x288 with 1 Axes>"
      ]
     },
     "metadata": {
      "needs_background": "light"
     },
     "output_type": "display_data"
    },
    {
     "data": {
      "image/png": "[encoded data removed]",
      "text/plain": [
       "<Figure size 432x288 with 1 Axes>"
      ]
     },
     "metadata": {
      "needs_background": "light"
     },
     "output_type": "display_data"
    },
    {
     "data": {
      "image/png": "[encoded data removed]",
      "text/plain": [
       "<Figure size 432x288 with 1 Axes>"
      ]
     },
     "metadata": {
      "needs_background": "light"
     },
     "output_type": "display_data"
    },
    {
     "data": {
      "image/png": "[encoded data removed]",
      "text/plain": [
       "<Figure size 432x288 with 1 Axes>"
      ]
     },
     "metadata": {
      "needs_background": "light"
     },
     "output_type": "display_data"
    },
    {
     "data": {
      "image/png": "[encoded data removed]",
      "text/plain": [
       "<Figure size 432x288 with 1 Axes>"
      ]
     },
     "metadata": {
      "needs_background": "light"
     },
     "output_type": "display_data"
    },
    {
     "data": {
      "image/png": "[encoded data removed]",
      "text/plain": [
       "<Figure size 432x288 with 1 Axes>"
      ]
     },
     "metadata": {
      "needs_background": "light"
     },
     "output_type": "display_data"
    },
    {
     "data": {
      "image/png": "[encoded data removed]",
      "text/plain": [
       "<Figure size 432x288 with 1 Axes>"
      ]
     },
     "metadata": {
      "needs_background": "light"
     },
     "output_type": "display_data"
    },
    {
     "data": {
      "image/png": "[encoded data removed]",
      "text/plain": [
       "<Figure size 432x288 with 1 Axes>"
      ]
     },
     "metadata": {
      "needs_background": "light"
     },
     "output_type": "display_data"
    }
   ],
   "source": [
    "for feature in continuous_variables:\n",
    "    plt.boxplot(df_fe[feature])\n",
    "    plt.title(feature)\n",
    "    plt.show()"
   ]
  },
  {
   "cell_type": "markdown",
   "metadata": {},
   "source": [
    "They seem to be many outliers in:\n",
    "* teamDiffCSPerMin\n",
    "* teamDiffGoldPerMin\n",
    "* teamDiffTotalExperience\n",
    "* teamDiffTotalGold\n",
    "* teamDiffTotalJungleMinionsKilled\n",
    "* teamDiffTotalMinionsKilled\n",
    "* teamDiffWardsPlaced\n",
    "\n",
    "This data is skewed and so prefer to use the IQR technique to spot outliers"
   ]
  },
  {
   "cell_type": "code",
   "execution_count": 19,
   "metadata": {},
   "outputs": [
    {
     "data": {
      "text/plain": [
       "['teamDiffAssists',\n",
       " 'teamDiffAvgLevel',\n",
       " 'teamDiffCSPerMin',\n",
       " 'teamDiffDeaths',\n",
       " 'teamDiffGoldPerMin',\n",
       " 'teamDiffKills',\n",
       " 'teamDiffTotalExperience',\n",
       " 'teamDiffTotalGold',\n",
       " 'teamDiffTotalJungleMinionsKilled',\n",
       " 'teamDiffTotalMinionsKilled',\n",
       " 'teamDiffWardsDestroyed',\n",
       " 'teamDiffWardsPlaced']"
      ]
     },
     "execution_count": 19,
     "metadata": {},
     "output_type": "execute_result"
    }
   ],
   "source": [
    "# we only check outliers for skewed data\n",
    "outliers_var = [x for x in continuous_variables if x != 'GameDuration']\n",
    "outliers_var"
   ]
  },
  {
   "cell_type": "code",
   "execution_count": 20,
   "metadata": {},
   "outputs": [
    {
     "name": "stdout",
     "output_type": "stream",
     "text": [
      "the nber of outliers in teamDiffAssists is 31\n",
      "the nber of outliers in teamDiffAvgLevel is 38\n",
      "the nber of outliers in teamDiffCSPerMin is 51\n",
      "the nber of outliers in teamDiffDeaths is 11\n",
      "the nber of outliers in teamDiffGoldPerMin is 41\n",
      "the nber of outliers in teamDiffKills is 11\n",
      "the nber of outliers in teamDiffTotalExperience is 59\n",
      "the nber of outliers in teamDiffTotalGold is 41\n",
      "the nber of outliers in teamDiffTotalJungleMinionsKilled is 56\n",
      "the nber of outliers in teamDiffTotalMinionsKilled is 51\n",
      "the nber of outliers in teamDiffWardsDestroyed is 301\n",
      "the nber of outliers in teamDiffWardsPlaced is 152\n"
     ]
    }
   ],
   "source": [
    "# for each feature compute the outliers and display their number\n",
    "for feature in outliers_var:\n",
    "    q3 = df_fe[feature].quantile(0.75)\n",
    "    q1 = df_fe[feature].quantile(0.25)\n",
    "    IQR = q3 - q1\n",
    "    upper_b = q3 + 1.5 * IQR\n",
    "    lower_b = q1 - 1.5 * IQR\n",
    "    nb_outliers = np.sum([(df_fe[feature] > upper_b) | (df_fe[feature] < lower_b)])\n",
    "    print('the nber of outliers in {} is {}'.format(feature, nb_outliers))\n",
    "# the number of outliers detected is too high for teamDiffWardsDestroyed which is explained by the commonly small range of this\n",
    "# parameter, therefore we won't remove the outliers from this variable"
   ]
  },
  {
   "cell_type": "code",
   "execution_count": 21,
   "metadata": {},
   "outputs": [],
   "source": [
    "outliers_var.remove('teamDiffWardsDestroyed')"
   ]
  },
  {
   "cell_type": "code",
   "execution_count": 22,
   "metadata": {},
   "outputs": [
    {
     "data": {
      "text/plain": [
       "['teamDiffAssists',\n",
       " 'teamDiffAvgLevel',\n",
       " 'teamDiffCSPerMin',\n",
       " 'teamDiffDeaths',\n",
       " 'teamDiffGoldPerMin',\n",
       " 'teamDiffKills',\n",
       " 'teamDiffTotalExperience',\n",
       " 'teamDiffTotalGold',\n",
       " 'teamDiffTotalJungleMinionsKilled',\n",
       " 'teamDiffTotalMinionsKilled',\n",
       " 'teamDiffWardsPlaced']"
      ]
     },
     "execution_count": 22,
     "metadata": {},
     "output_type": "execute_result"
    }
   ],
   "source": [
    "outliers_var"
   ]
  },
  {
   "cell_type": "code",
   "execution_count": 23,
   "metadata": {},
   "outputs": [],
   "source": [
    "# remove the detected outliers\n",
    "for feature in outliers_var:\n",
    "    q3 = df_fe[feature].quantile(0.75)\n",
    "    q1 = df_fe[feature].quantile(0.25)\n",
    "    IQR = q3 - q1\n",
    "    upper_b = q3 + 1.5 * IQR\n",
    "    lower_b = q1 - 1.5 * IQR\n",
    "    df_fe = df_fe[~((df_fe[feature] > upper_b) | (df_fe[feature] < lower_b))]"
   ]
  },
  {
   "cell_type": "markdown",
   "metadata": {},
   "source": [
    "### 2. Feature Transformation"
   ]
  },
  {
   "cell_type": "markdown",
   "metadata": {},
   "source": [
    "Log transformation of skewed continuous variables"
   ]
  },
  {
   "cell_type": "code",
   "execution_count": 24,
   "metadata": {},
   "outputs": [],
   "source": [
    "# let's perfom log transformation on skewed data\n",
    "# Based on EDA we know that all the continuous variables are skewed except GameDuration\n",
    "skewed_variables = [x for x in continuous_variables if x != 'GameDuration']\n",
    "\n",
    "for feature in skewed_variables:\n",
    "        df_fe[feature] = np.log1p(df_fe[feature])"
   ]
  },
  {
   "cell_type": "code",
   "execution_count": 27,
   "metadata": {},
   "outputs": [
    {
     "data": {
      "image/png": "[encoded data removed]",
      "text/plain": [
       "<Figure size 432x288 with 1 Axes>"
      ]
     },
     "metadata": {
      "needs_background": "light"
     },
     "output_type": "display_data"
    },
    {
     "data": {
      "image/png": "[encoded data removed]",
      "text/plain": [
       "<Figure size 432x288 with 1 Axes>"
      ]
     },
     "metadata": {
      "needs_background": "light"
     },
     "output_type": "display_data"
    },
    {
     "data": {
      "image/png": "[encoded data removed]",
      "text/plain": [
       "<Figure size 432x288 with 1 Axes>"
      ]
     },
     "metadata": {
      "needs_background": "light"
     },
     "output_type": "display_data"
    },
    {
     "data": {
      "image/png": "[encoded data removed]",
      "text/plain": [
       "<Figure size 432x288 with 1 Axes>"
      ]
     },
     "metadata": {
      "needs_background": "light"
     },
     "output_type": "display_data"
    },
    {
     "data": {
      "image/png": "[encoded data removed]",
      "text/plain": [
       "<Figure size 432x288 with 1 Axes>"
      ]
     },
     "metadata": {
      "needs_background": "light"
     },
     "output_type": "display_data"
    },
    {
     "data": {
      "image/png": "[encoded data removed]",
      "text/plain": [
       "<Figure size 432x288 with 1 Axes>"
      ]
     },
     "metadata": {
      "needs_background": "light"
     },
     "output_type": "display_data"
    },
    {
     "data": {
      "image/png": "[encoded data removed]",
      "text/plain": [
       "<Figure size 432x288 with 1 Axes>"
      ]
     },
     "metadata": {
      "needs_background": "light"
     },
     "output_type": "display_data"
    },
    {
     "data": {
      "image/png": "[encoded data removed]",
      "text/plain": [
       "<Figure size 432x288 with 1 Axes>"
      ]
     },
     "metadata": {
      "needs_background": "light"
     },
     "output_type": "display_data"
    },
    {
     "data": {
      "image/png": "[encoded data removed]",
      "text/plain": [
       "<Figure size 432x288 with 1 Axes>"
      ]
     },
     "metadata": {
      "needs_background": "light"
     },
     "output_type": "display_data"
    },
    {
     "data": {
      "image/png": "[encoded data removed]",
      "text/plain": [
       "<Figure size 432x288 with 1 Axes>"
      ]
     },
     "metadata": {
      "needs_background": "light"
     },
     "output_type": "display_data"
    },
    {
     "data": {
      "image/png": "[encoded data removed]",
      "text/plain": [
       "<Figure size 432x288 with 1 Axes>"
      ]
     },
     "metadata": {
      "needs_background": "light"
     },
     "output_type": "display_data"
    },
    {
     "data": {
      "image/png": "[encoded data removed]",
      "text/plain": [
       "<Figure size 432x288 with 1 Axes>"
      ]
     },
     "metadata": {
      "needs_background": "light"
     },
     "output_type": "display_data"
    },
    {
     "data": {
      "image/png": "[encoded data removed]",
      "text/plain": [
       "<Figure size 432x288 with 1 Axes>"
      ]
     },
     "metadata": {
      "needs_background": "light"
     },
     "output_type": "display_data"
    }
   ],
   "source": [
    "for feature in continuous_variables:\n",
    "    sns.distplot(df_fe[feature], bins=20, color='blue')\n",
    "    plt.show()"
   ]
  },
  {
   "cell_type": "code",
   "execution_count": 40,
   "metadata": {},
   "outputs": [
    {
     "data": {
      "text/plain": [
       "['teamDiffAssists',\n",
       " 'teamDiffAvgLevel',\n",
       " 'teamDiffCSPerMin',\n",
       " 'teamDiffDeaths',\n",
       " 'teamDiffDragons',\n",
       " 'teamDiffEliteMonsters',\n",
       " 'teamDiffGoldPerMin',\n",
       " 'teamDiffHeralds',\n",
       " 'teamDiffKills',\n",
       " 'teamDiffTotalExperience',\n",
       " 'teamDiffTotalGold',\n",
       " 'teamDiffTotalJungleMinionsKilled',\n",
       " 'teamDiffTotalMinionsKilled',\n",
       " 'teamDiffTowersDestroyed',\n",
       " 'teamDiffWardsDestroyed',\n",
       " 'teamDiffWardsPlaced',\n",
       " 'EarlyGameLead']"
      ]
     },
     "execution_count": 40,
     "metadata": {},
     "output_type": "execute_result"
    }
   ],
   "source": [
    "var_features = list(df_fe.columns)\n",
    "var_features.remove('GameDuration')"
   ]
  },
  {
   "cell_type": "code",
   "execution_count": 50,
   "metadata": {},
   "outputs": [
    {
     "name": "stdout",
     "output_type": "stream",
     "text": [
      "(2151, 17)\n"
     ]
    }
   ],
   "source": [
    "# Lets now scale our feature variables using MinMaxScaler\n",
    "from sklearn.preprocessing import MinMaxScaler\n",
    "scaler = MinMaxScaler()\n",
    "scaled = scaler.fit_transform(df_fe[var_features])\n",
    "print(scaled.shape)"
   ]
  },
  {
   "cell_type": "code",
   "execution_count": 56,
   "metadata": {},
   "outputs": [
    {
     "data": {
      "text/html": [
       "<div>\n",
       "<style scoped>\n",
       "    .dataframe tbody tr th:only-of-type {\n",
       "        vertical-align: middle;\n",
       "    }\n",
       "\n",
       "    .dataframe tbody tr th {\n",
       "        vertical-align: top;\n",
       "    }\n",
       "\n",
       "    .dataframe thead th {\n",
       "        text-align: right;\n",
       "    }\n",
       "</style>\n",
       "<table border=\"1\" class=\"dataframe\">\n",
       "  <thead>\n",
       "    <tr style=\"text-align: right;\">\n",
       "      <th></th>\n",
       "      <th>GameDuration</th>\n",
       "      <th>teamDiffAssists</th>\n",
       "      <th>teamDiffAvgLevel</th>\n",
       "      <th>teamDiffCSPerMin</th>\n",
       "      <th>teamDiffDeaths</th>\n",
       "      <th>teamDiffDragons</th>\n",
       "      <th>teamDiffEliteMonsters</th>\n",
       "      <th>teamDiffGoldPerMin</th>\n",
       "      <th>teamDiffHeralds</th>\n",
       "      <th>teamDiffKills</th>\n",
       "      <th>teamDiffTotalExperience</th>\n",
       "      <th>teamDiffTotalGold</th>\n",
       "      <th>teamDiffTotalJungleMinionsKilled</th>\n",
       "      <th>teamDiffTotalMinionsKilled</th>\n",
       "      <th>teamDiffTowersDestroyed</th>\n",
       "      <th>teamDiffWardsDestroyed</th>\n",
       "      <th>teamDiffWardsPlaced</th>\n",
       "      <th>EarlyGameLead</th>\n",
       "    </tr>\n",
       "  </thead>\n",
       "  <tbody>\n",
       "    <tr>\n",
       "      <th>0</th>\n",
       "      <td>32.0</td>\n",
       "      <td>0.511916</td>\n",
       "      <td>0.263034</td>\n",
       "      <td>0.088212</td>\n",
       "      <td>0.630930</td>\n",
       "      <td>0.0</td>\n",
       "      <td>0.0</td>\n",
       "      <td>0.660464</td>\n",
       "      <td>0.0</td>\n",
       "      <td>0.630930</td>\n",
       "      <td>0.153052</td>\n",
       "      <td>0.722056</td>\n",
       "      <td>0.842599</td>\n",
       "      <td>0.258589</td>\n",
       "      <td>0.0</td>\n",
       "      <td>0.506422</td>\n",
       "      <td>0.681715</td>\n",
       "      <td>1.0</td>\n",
       "    </tr>\n",
       "    <tr>\n",
       "      <th>1</th>\n",
       "      <td>19.0</td>\n",
       "      <td>0.511916</td>\n",
       "      <td>0.263034</td>\n",
       "      <td>0.981269</td>\n",
       "      <td>0.000000</td>\n",
       "      <td>1.0</td>\n",
       "      <td>1.0</td>\n",
       "      <td>0.907862</td>\n",
       "      <td>1.0</td>\n",
       "      <td>0.000000</td>\n",
       "      <td>0.831642</td>\n",
       "      <td>0.924840</td>\n",
       "      <td>0.647640</td>\n",
       "      <td>0.989690</td>\n",
       "      <td>0.5</td>\n",
       "      <td>0.000000</td>\n",
       "      <td>0.000000</td>\n",
       "      <td>1.0</td>\n",
       "    </tr>\n",
       "    <tr>\n",
       "      <th>2</th>\n",
       "      <td>32.0</td>\n",
       "      <td>0.885469</td>\n",
       "      <td>0.485427</td>\n",
       "      <td>0.480560</td>\n",
       "      <td>0.732487</td>\n",
       "      <td>1.0</td>\n",
       "      <td>0.5</td>\n",
       "      <td>0.758523</td>\n",
       "      <td>0.0</td>\n",
       "      <td>0.732487</td>\n",
       "      <td>0.813952</td>\n",
       "      <td>0.802695</td>\n",
       "      <td>0.828172</td>\n",
       "      <td>0.680328</td>\n",
       "      <td>0.0</td>\n",
       "      <td>0.436209</td>\n",
       "      <td>0.000000</td>\n",
       "      <td>1.0</td>\n",
       "    </tr>\n",
       "    <tr>\n",
       "      <th>3</th>\n",
       "      <td>23.0</td>\n",
       "      <td>0.661642</td>\n",
       "      <td>0.000000</td>\n",
       "      <td>0.716837</td>\n",
       "      <td>0.315465</td>\n",
       "      <td>0.0</td>\n",
       "      <td>0.5</td>\n",
       "      <td>0.778143</td>\n",
       "      <td>1.0</td>\n",
       "      <td>0.315465</td>\n",
       "      <td>0.136643</td>\n",
       "      <td>0.818777</td>\n",
       "      <td>0.618005</td>\n",
       "      <td>0.836849</td>\n",
       "      <td>0.0</td>\n",
       "      <td>0.218104</td>\n",
       "      <td>0.869832</td>\n",
       "      <td>1.0</td>\n",
       "    </tr>\n",
       "    <tr>\n",
       "      <th>5</th>\n",
       "      <td>30.0</td>\n",
       "      <td>0.594316</td>\n",
       "      <td>0.000000</td>\n",
       "      <td>0.162794</td>\n",
       "      <td>0.500000</td>\n",
       "      <td>1.0</td>\n",
       "      <td>0.5</td>\n",
       "      <td>0.673828</td>\n",
       "      <td>0.0</td>\n",
       "      <td>0.500000</td>\n",
       "      <td>0.491271</td>\n",
       "      <td>0.733077</td>\n",
       "      <td>0.812964</td>\n",
       "      <td>0.378825</td>\n",
       "      <td>0.0</td>\n",
       "      <td>0.563791</td>\n",
       "      <td>0.760601</td>\n",
       "      <td>0.0</td>\n",
       "    </tr>\n",
       "    <tr>\n",
       "      <th>...</th>\n",
       "      <td>...</td>\n",
       "      <td>...</td>\n",
       "      <td>...</td>\n",
       "      <td>...</td>\n",
       "      <td>...</td>\n",
       "      <td>...</td>\n",
       "      <td>...</td>\n",
       "      <td>...</td>\n",
       "      <td>...</td>\n",
       "      <td>...</td>\n",
       "      <td>...</td>\n",
       "      <td>...</td>\n",
       "      <td>...</td>\n",
       "      <td>...</td>\n",
       "      <td>...</td>\n",
       "      <td>...</td>\n",
       "      <td>...</td>\n",
       "      <td>...</td>\n",
       "    </tr>\n",
       "    <tr>\n",
       "      <th>2555</th>\n",
       "      <td>29.0</td>\n",
       "      <td>0.511916</td>\n",
       "      <td>0.000000</td>\n",
       "      <td>0.716837</td>\n",
       "      <td>0.315465</td>\n",
       "      <td>1.0</td>\n",
       "      <td>1.0</td>\n",
       "      <td>0.680462</td>\n",
       "      <td>1.0</td>\n",
       "      <td>0.315465</td>\n",
       "      <td>0.660630</td>\n",
       "      <td>0.738544</td>\n",
       "      <td>0.742278</td>\n",
       "      <td>0.836849</td>\n",
       "      <td>0.0</td>\n",
       "      <td>0.345687</td>\n",
       "      <td>0.462843</td>\n",
       "      <td>1.0</td>\n",
       "    </tr>\n",
       "    <tr>\n",
       "      <th>2557</th>\n",
       "      <td>31.0</td>\n",
       "      <td>0.767874</td>\n",
       "      <td>0.678072</td>\n",
       "      <td>0.335362</td>\n",
       "      <td>0.885622</td>\n",
       "      <td>0.0</td>\n",
       "      <td>0.0</td>\n",
       "      <td>0.891879</td>\n",
       "      <td>0.0</td>\n",
       "      <td>0.885622</td>\n",
       "      <td>0.929212</td>\n",
       "      <td>0.911791</td>\n",
       "      <td>0.618005</td>\n",
       "      <td>0.564410</td>\n",
       "      <td>0.0</td>\n",
       "      <td>0.506422</td>\n",
       "      <td>0.283791</td>\n",
       "      <td>1.0</td>\n",
       "    </tr>\n",
       "    <tr>\n",
       "      <th>2559</th>\n",
       "      <td>26.0</td>\n",
       "      <td>0.661642</td>\n",
       "      <td>0.263034</td>\n",
       "      <td>0.633004</td>\n",
       "      <td>0.500000</td>\n",
       "      <td>1.0</td>\n",
       "      <td>0.5</td>\n",
       "      <td>0.692356</td>\n",
       "      <td>0.0</td>\n",
       "      <td>0.500000</td>\n",
       "      <td>0.792903</td>\n",
       "      <td>0.748339</td>\n",
       "      <td>0.618005</td>\n",
       "      <td>0.784326</td>\n",
       "      <td>0.0</td>\n",
       "      <td>0.972621</td>\n",
       "      <td>0.971585</td>\n",
       "      <td>0.0</td>\n",
       "    </tr>\n",
       "    <tr>\n",
       "      <th>2560</th>\n",
       "      <td>24.0</td>\n",
       "      <td>0.718565</td>\n",
       "      <td>0.485427</td>\n",
       "      <td>0.874895</td>\n",
       "      <td>0.315465</td>\n",
       "      <td>1.0</td>\n",
       "      <td>0.5</td>\n",
       "      <td>0.877347</td>\n",
       "      <td>0.0</td>\n",
       "      <td>0.315465</td>\n",
       "      <td>0.897091</td>\n",
       "      <td>0.899922</td>\n",
       "      <td>0.779836</td>\n",
       "      <td>0.930034</td>\n",
       "      <td>0.0</td>\n",
       "      <td>0.218104</td>\n",
       "      <td>0.594799</td>\n",
       "      <td>1.0</td>\n",
       "    </tr>\n",
       "    <tr>\n",
       "      <th>2562</th>\n",
       "      <td>21.0</td>\n",
       "      <td>0.255958</td>\n",
       "      <td>0.263034</td>\n",
       "      <td>0.227400</td>\n",
       "      <td>0.000000</td>\n",
       "      <td>1.0</td>\n",
       "      <td>0.5</td>\n",
       "      <td>0.720138</td>\n",
       "      <td>0.0</td>\n",
       "      <td>0.000000</td>\n",
       "      <td>0.415006</td>\n",
       "      <td>0.771187</td>\n",
       "      <td>0.309003</td>\n",
       "      <td>0.458023</td>\n",
       "      <td>0.0</td>\n",
       "      <td>0.345687</td>\n",
       "      <td>0.594799</td>\n",
       "      <td>1.0</td>\n",
       "    </tr>\n",
       "  </tbody>\n",
       "</table>\n",
       "<p>2151 rows × 18 columns</p>\n",
       "</div>"
      ],
      "text/plain": [
       "      GameDuration  teamDiffAssists  teamDiffAvgLevel  teamDiffCSPerMin  \\\n",
       "0             32.0         0.511916          0.263034          0.088212   \n",
       "1             19.0         0.511916          0.263034          0.981269   \n",
       "2             32.0         0.885469          0.485427          0.480560   \n",
       "3             23.0         0.661642          0.000000          0.716837   \n",
       "5             30.0         0.594316          0.000000          0.162794   \n",
       "...            ...              ...               ...               ...   \n",
       "2555          29.0         0.511916          0.000000          0.716837   \n",
       "2557          31.0         0.767874          0.678072          0.335362   \n",
       "2559          26.0         0.661642          0.263034          0.633004   \n",
       "2560          24.0         0.718565          0.485427          0.874895   \n",
       "2562          21.0         0.255958          0.263034          0.227400   \n",
       "\n",
       "      teamDiffDeaths  teamDiffDragons  teamDiffEliteMonsters  \\\n",
       "0           0.630930              0.0                    0.0   \n",
       "1           0.000000              1.0                    1.0   \n",
       "2           0.732487              1.0                    0.5   \n",
       "3           0.315465              0.0                    0.5   \n",
       "5           0.500000              1.0                    0.5   \n",
       "...              ...              ...                    ...   \n",
       "2555        0.315465              1.0                    1.0   \n",
       "2557        0.885622              0.0                    0.0   \n",
       "2559        0.500000              1.0                    0.5   \n",
       "2560        0.315465              1.0                    0.5   \n",
       "2562        0.000000              1.0                    0.5   \n",
       "\n",
       "      teamDiffGoldPerMin  teamDiffHeralds  teamDiffKills  \\\n",
       "0               0.660464              0.0       0.630930   \n",
       "1               0.907862              1.0       0.000000   \n",
       "2               0.758523              0.0       0.732487   \n",
       "3               0.778143              1.0       0.315465   \n",
       "5               0.673828              0.0       0.500000   \n",
       "...                  ...              ...            ...   \n",
       "2555            0.680462              1.0       0.315465   \n",
       "2557            0.891879              0.0       0.885622   \n",
       "2559            0.692356              0.0       0.500000   \n",
       "2560            0.877347              0.0       0.315465   \n",
       "2562            0.720138              0.0       0.000000   \n",
       "\n",
       "      teamDiffTotalExperience  teamDiffTotalGold  \\\n",
       "0                    0.153052           0.722056   \n",
       "1                    0.831642           0.924840   \n",
       "2                    0.813952           0.802695   \n",
       "3                    0.136643           0.818777   \n",
       "5                    0.491271           0.733077   \n",
       "...                       ...                ...   \n",
       "2555                 0.660630           0.738544   \n",
       "2557                 0.929212           0.911791   \n",
       "2559                 0.792903           0.748339   \n",
       "2560                 0.897091           0.899922   \n",
       "2562                 0.415006           0.771187   \n",
       "\n",
       "      teamDiffTotalJungleMinionsKilled  teamDiffTotalMinionsKilled  \\\n",
       "0                             0.842599                    0.258589   \n",
       "1                             0.647640                    0.989690   \n",
       "2                             0.828172                    0.680328   \n",
       "3                             0.618005                    0.836849   \n",
       "5                             0.812964                    0.378825   \n",
       "...                                ...                         ...   \n",
       "2555                          0.742278                    0.836849   \n",
       "2557                          0.618005                    0.564410   \n",
       "2559                          0.618005                    0.784326   \n",
       "2560                          0.779836                    0.930034   \n",
       "2562                          0.309003                    0.458023   \n",
       "\n",
       "      teamDiffTowersDestroyed  teamDiffWardsDestroyed  teamDiffWardsPlaced  \\\n",
       "0                         0.0                0.506422             0.681715   \n",
       "1                         0.5                0.000000             0.000000   \n",
       "2                         0.0                0.436209             0.000000   \n",
       "3                         0.0                0.218104             0.869832   \n",
       "5                         0.0                0.563791             0.760601   \n",
       "...                       ...                     ...                  ...   \n",
       "2555                      0.0                0.345687             0.462843   \n",
       "2557                      0.0                0.506422             0.283791   \n",
       "2559                      0.0                0.972621             0.971585   \n",
       "2560                      0.0                0.218104             0.594799   \n",
       "2562                      0.0                0.345687             0.594799   \n",
       "\n",
       "      EarlyGameLead  \n",
       "0               1.0  \n",
       "1               1.0  \n",
       "2               1.0  \n",
       "3               1.0  \n",
       "5               0.0  \n",
       "...             ...  \n",
       "2555            1.0  \n",
       "2557            1.0  \n",
       "2559            0.0  \n",
       "2560            1.0  \n",
       "2562            1.0  \n",
       "\n",
       "[2151 rows x 18 columns]"
      ]
     },
     "execution_count": 56,
     "metadata": {},
     "output_type": "execute_result"
    }
   ],
   "source": [
    "df_feature_scaled = pd.DataFrame(scaled, columns=var_features, index=df_fe.index)\n",
    "df_fe_scaled = pd.concat([df_fe['GameDuration'], df_feature_scaled], axis=1)\n",
    "df_fe_scaled"
   ]
  },
  {
   "cell_type": "code",
   "execution_count": null,
   "metadata": {},
   "outputs": [],
   "source": [
    "# df_fe_scaled is the new data scaled and log transformed."
   ]
  },
  {
   "cell_type": "code",
   "execution_count": null,
   "metadata": {},
   "outputs": [],
   "source": []
  }
 ],
 "metadata": {
  "kernelspec": {
   "display_name": "Python 3",
   "language": "python",
   "name": "python3"
  },
  "language_info": {
   "codemirror_mode": {
    "name": "ipython",
    "version": 3
   },
   "file_extension": ".py",
   "mimetype": "text/x-python",
   "name": "python",
   "nbconvert_exporter": "python",
   "pygments_lexer": "ipython3",
   "version": "3.8.3"
  },
  "varInspector": {
   "cols": {
    "lenName": 16,
    "lenType": 16,
    "lenVar": 40
   },
   "kernels_config": {
    "python": {
     "delete_cmd_postfix": "",
     "delete_cmd_prefix": "del ",
     "library": "var_list.py",
     "varRefreshCmd": "print(var_dic_list())"
    },
    "r": {
     "delete_cmd_postfix": ") ",
     "delete_cmd_prefix": "rm(",
     "library": "var_list.r",
     "varRefreshCmd": "cat(var_dic_list()) "
    }
   },
   "types_to_exclude": [
    "module",
    "function",
    "builtin_function_or_method",
    "instance",
    "_Feature"
   ],
   "window_display": false
  }
 },
 "nbformat": 4,
 "nbformat_minor": 4
}
