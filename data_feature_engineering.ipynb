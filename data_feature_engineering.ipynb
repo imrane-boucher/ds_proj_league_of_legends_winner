{
 "cells": [
  {
   "cell_type": "markdown",
   "metadata": {},
   "source": [
    "# Data Feature Engineering"
   ]
  },
  {
   "cell_type": "markdown",
   "metadata": {},
   "source": [
    "After doing some basic data exploration, we have: \n",
    "* noticed that we need to engineer our existing features in order to get more insight about the GameDuration variable that we are trying to predict.\n",
    "* observed some possible skewness in the continuous variables and the need for some feature scaling\n",
    "* spoted some outliers in the continuous variables\n",
    "\n",
    "We are going to answer those problematics in this first Step of feature engineering (I. Basic Feature Engineering)"
   ]
  },
  {
   "cell_type": "code",
   "execution_count": 2,
   "metadata": {},
   "outputs": [],
   "source": [
    "# Necessary librairies\n",
    "import pandas as pd \n",
    "import numpy as np \n",
    "import matplotlib.pyplot as plt\n",
    "import seaborn as sns\n",
    "%matplotlib inline"
   ]
  },
  {
   "cell_type": "markdown",
   "metadata": {},
   "source": [
    "## I. Basic Feature Engineering"
   ]
  },
  {
   "cell_type": "code",
   "execution_count": 5,
   "metadata": {},
   "outputs": [],
   "source": [
    "# import our dataset\n",
    "df = pd.read_csv('./data/league_data_cleaned_10min.csv')\n",
    "df.sample(10)\n",
    "df = df.drop(columns='Unnamed: 0', axis=1)"
   ]
  },
  {
   "cell_type": "code",
   "execution_count": 8,
   "metadata": {
    "scrolled": false
   },
   "outputs": [
    {
     "data": {
      "text/plain": [
       "Index(['gameId', 'blueWins', 'blueWardsPlaced', 'blueWardsDestroyed',\n",
       "       'blueFirstBlood', 'blueKills', 'blueDeaths', 'blueAssists',\n",
       "       'blueEliteMonsters', 'blueDragons', 'blueHeralds',\n",
       "       'blueTowersDestroyed', 'blueTotalGold', 'blueAvgLevel',\n",
       "       'blueTotalExperience', 'blueTotalMinionsKilled',\n",
       "       'blueTotalJungleMinionsKilled', 'blueGoldDiff', 'blueExperienceDiff',\n",
       "       'blueCSPerMin', 'blueGoldPerMin', 'redWardsPlaced', 'redWardsDestroyed',\n",
       "       'redFirstBlood', 'redKills', 'redDeaths', 'redAssists',\n",
       "       'redEliteMonsters', 'redDragons', 'redHeralds', 'redTowersDestroyed',\n",
       "       'redTotalGold', 'redAvgLevel', 'redTotalExperience',\n",
       "       'redTotalMinionsKilled', 'redTotalJungleMinionsKilled', 'redGoldDiff',\n",
       "       'redExperienceDiff', 'redCSPerMin', 'redGoldPerMin', 'GameDuration'],\n",
       "      dtype='object')"
      ]
     },
     "execution_count": 8,
     "metadata": {},
     "output_type": "execute_result"
    }
   ],
   "source": [
    "df.columns"
   ]
  },
  {
   "cell_type": "markdown",
   "metadata": {},
   "source": [
    "Let's start by removing features which obviously (based on my knowledge of the game) won't help at prediction / analyzing the game duration of the games. \n",
    "* gameId\n",
    "* blueWins"
   ]
  },
  {
   "cell_type": "code",
   "execution_count": 10,
   "metadata": {},
   "outputs": [],
   "source": [
    "df_fe = df.drop(columns=['gameId', 'blueWins'], axis=1)\n"
   ]
  },
  {
   "cell_type": "markdown",
   "metadata": {},
   "source": [
    "### 1. Transformation of existing feature into new more insighful ones"
   ]
  },
  {
   "cell_type": "markdown",
   "metadata": {},
   "source": [
    "We are interested in the different of performance between the two teams (The greater the difference the lower we can expect the game duration to be).\n",
    "Therefore we might want to replace all the variables blue__ / red__  by teamDiff__ (ex: replace redKills and blueKills\n",
    "by teamDiffKills = abs(redKills-blueKills))"
   ]
  },
  {
   "cell_type": "code",
   "execution_count": 11,
   "metadata": {},
   "outputs": [],
   "source": [
    "# blueWardsPlaced / redWardsPlaced -> teamDiffWardsPlaced\n",
    "# blueWardsDestroyed / redWardsDestroyed -> teamDiffWardsDestroyed\n",
    "# blueKills / redKills -> teamDiffKills\n",
    "# blueEliteMonsters / redEliteMonsters -> teamDiffEliteMonsters\n",
    "# etc."
   ]
  },
  {
   "cell_type": "code",
   "execution_count": 18,
   "metadata": {},
   "outputs": [],
   "source": [
    "df_fe = df_fe.reindex(sorted(df_fe.columns), axis=1)"
   ]
  },
  {
   "cell_type": "code",
   "execution_count": 22,
   "metadata": {},
   "outputs": [],
   "source": [
    "# make some lists of red and blue variable so we can create the teamDiff__ variables by iteration\n",
    "blue_var = [x for x in df_fe.columns if 'blue' in x]\n",
    "red_var = [x for x in df_fe.columns if 'red' in x]"
   ]
  },
  {
   "cell_type": "code",
   "execution_count": 26,
   "metadata": {},
   "outputs": [
    {
     "data": {
      "text/html": [
       "<div>\n",
       "<style scoped>\n",
       "    .dataframe tbody tr th:only-of-type {\n",
       "        vertical-align: middle;\n",
       "    }\n",
       "\n",
       "    .dataframe tbody tr th {\n",
       "        vertical-align: top;\n",
       "    }\n",
       "\n",
       "    .dataframe thead th {\n",
       "        text-align: right;\n",
       "    }\n",
       "</style>\n",
       "<table border=\"1\" class=\"dataframe\">\n",
       "  <thead>\n",
       "    <tr style=\"text-align: right;\">\n",
       "      <th></th>\n",
       "      <th>GameDuration</th>\n",
       "      <th>blueAssists</th>\n",
       "      <th>blueAvgLevel</th>\n",
       "      <th>blueCSPerMin</th>\n",
       "      <th>blueDeaths</th>\n",
       "      <th>blueDragons</th>\n",
       "      <th>blueEliteMonsters</th>\n",
       "      <th>blueExperienceDiff</th>\n",
       "      <th>blueFirstBlood</th>\n",
       "      <th>blueGoldDiff</th>\n",
       "      <th>...</th>\n",
       "      <th>teamDiffGoldPerMin</th>\n",
       "      <th>teamDiffHeralds</th>\n",
       "      <th>teamDiffKills</th>\n",
       "      <th>teamDiffTotalExperience</th>\n",
       "      <th>teamDiffTotalGold</th>\n",
       "      <th>teamDiffTotalJungleMinionsKilled</th>\n",
       "      <th>teamDiffTotalMinionsKilled</th>\n",
       "      <th>teamDiffTowersDestroyed</th>\n",
       "      <th>teamDiffWardsDestroyed</th>\n",
       "      <th>teamDiffWardsPlaced</th>\n",
       "    </tr>\n",
       "  </thead>\n",
       "  <tbody>\n",
       "    <tr>\n",
       "      <th>0</th>\n",
       "      <td>32.0</td>\n",
       "      <td>11</td>\n",
       "      <td>6.6</td>\n",
       "      <td>19.5</td>\n",
       "      <td>6</td>\n",
       "      <td>0</td>\n",
       "      <td>0</td>\n",
       "      <td>-8</td>\n",
       "      <td>1</td>\n",
       "      <td>643</td>\n",
       "      <td>...</td>\n",
       "      <td>64.3</td>\n",
       "      <td>0</td>\n",
       "      <td>3</td>\n",
       "      <td>8</td>\n",
       "      <td>643</td>\n",
       "      <td>19</td>\n",
       "      <td>2</td>\n",
       "      <td>0</td>\n",
       "      <td>4</td>\n",
       "      <td>13</td>\n",
       "    </tr>\n",
       "    <tr>\n",
       "      <th>1</th>\n",
       "      <td>19.0</td>\n",
       "      <td>5</td>\n",
       "      <td>6.6</td>\n",
       "      <td>17.4</td>\n",
       "      <td>5</td>\n",
       "      <td>0</td>\n",
       "      <td>0</td>\n",
       "      <td>-1173</td>\n",
       "      <td>0</td>\n",
       "      <td>-2908</td>\n",
       "      <td>...</td>\n",
       "      <td>290.8</td>\n",
       "      <td>1</td>\n",
       "      <td>0</td>\n",
       "      <td>1173</td>\n",
       "      <td>2908</td>\n",
       "      <td>9</td>\n",
       "      <td>66</td>\n",
       "      <td>1</td>\n",
       "      <td>0</td>\n",
       "      <td>0</td>\n",
       "    </tr>\n",
       "    <tr>\n",
       "      <th>2</th>\n",
       "      <td>32.0</td>\n",
       "      <td>4</td>\n",
       "      <td>6.4</td>\n",
       "      <td>18.6</td>\n",
       "      <td>11</td>\n",
       "      <td>1</td>\n",
       "      <td>1</td>\n",
       "      <td>-1033</td>\n",
       "      <td>0</td>\n",
       "      <td>-1172</td>\n",
       "      <td>...</td>\n",
       "      <td>117.2</td>\n",
       "      <td>0</td>\n",
       "      <td>4</td>\n",
       "      <td>1033</td>\n",
       "      <td>1172</td>\n",
       "      <td>18</td>\n",
       "      <td>17</td>\n",
       "      <td>0</td>\n",
       "      <td>3</td>\n",
       "      <td>0</td>\n",
       "    </tr>\n",
       "    <tr>\n",
       "      <th>3</th>\n",
       "      <td>23.0</td>\n",
       "      <td>5</td>\n",
       "      <td>7.0</td>\n",
       "      <td>20.1</td>\n",
       "      <td>5</td>\n",
       "      <td>0</td>\n",
       "      <td>1</td>\n",
       "      <td>-7</td>\n",
       "      <td>0</td>\n",
       "      <td>-1321</td>\n",
       "      <td>...</td>\n",
       "      <td>132.1</td>\n",
       "      <td>1</td>\n",
       "      <td>1</td>\n",
       "      <td>7</td>\n",
       "      <td>1321</td>\n",
       "      <td>8</td>\n",
       "      <td>34</td>\n",
       "      <td>0</td>\n",
       "      <td>1</td>\n",
       "      <td>28</td>\n",
       "    </tr>\n",
       "    <tr>\n",
       "      <th>4</th>\n",
       "      <td>27.0</td>\n",
       "      <td>6</td>\n",
       "      <td>7.0</td>\n",
       "      <td>21.0</td>\n",
       "      <td>6</td>\n",
       "      <td>0</td>\n",
       "      <td>0</td>\n",
       "      <td>230</td>\n",
       "      <td>0</td>\n",
       "      <td>-1004</td>\n",
       "      <td>...</td>\n",
       "      <td>100.4</td>\n",
       "      <td>0</td>\n",
       "      <td>0</td>\n",
       "      <td>230</td>\n",
       "      <td>1004</td>\n",
       "      <td>10</td>\n",
       "      <td>15</td>\n",
       "      <td>0</td>\n",
       "      <td>2</td>\n",
       "      <td>58</td>\n",
       "    </tr>\n",
       "  </tbody>\n",
       "</table>\n",
       "<p>5 rows × 58 columns</p>\n",
       "</div>"
      ],
      "text/plain": [
       "   GameDuration  blueAssists  blueAvgLevel  blueCSPerMin  blueDeaths  \\\n",
       "0          32.0           11           6.6          19.5           6   \n",
       "1          19.0            5           6.6          17.4           5   \n",
       "2          32.0            4           6.4          18.6          11   \n",
       "3          23.0            5           7.0          20.1           5   \n",
       "4          27.0            6           7.0          21.0           6   \n",
       "\n",
       "   blueDragons  blueEliteMonsters  blueExperienceDiff  blueFirstBlood  \\\n",
       "0            0                  0                  -8               1   \n",
       "1            0                  0               -1173               0   \n",
       "2            1                  1               -1033               0   \n",
       "3            0                  1                  -7               0   \n",
       "4            0                  0                 230               0   \n",
       "\n",
       "   blueGoldDiff  ...  teamDiffGoldPerMin  teamDiffHeralds  teamDiffKills  \\\n",
       "0           643  ...                64.3                0              3   \n",
       "1         -2908  ...               290.8                1              0   \n",
       "2         -1172  ...               117.2                0              4   \n",
       "3         -1321  ...               132.1                1              1   \n",
       "4         -1004  ...               100.4                0              0   \n",
       "\n",
       "   teamDiffTotalExperience  teamDiffTotalGold  \\\n",
       "0                        8                643   \n",
       "1                     1173               2908   \n",
       "2                     1033               1172   \n",
       "3                        7               1321   \n",
       "4                      230               1004   \n",
       "\n",
       "   teamDiffTotalJungleMinionsKilled  teamDiffTotalMinionsKilled  \\\n",
       "0                                19                           2   \n",
       "1                                 9                          66   \n",
       "2                                18                          17   \n",
       "3                                 8                          34   \n",
       "4                                10                          15   \n",
       "\n",
       "   teamDiffTowersDestroyed  teamDiffWardsDestroyed  teamDiffWardsPlaced  \n",
       "0                        0                       4                   13  \n",
       "1                        1                       0                    0  \n",
       "2                        0                       3                    0  \n",
       "3                        0                       1                   28  \n",
       "4                        0                       2                   58  \n",
       "\n",
       "[5 rows x 58 columns]"
      ]
     },
     "execution_count": 26,
     "metadata": {},
     "output_type": "execute_result"
    }
   ],
   "source": [
    "for b, r in zip(blue_var, red_var):\n",
    "    name_vr = 'teamDiff'+b[4:] # create the names of the new variables adding the word after 'blue' in the orignal feature\n",
    "    df_fe[name_vr] = abs(df_fe[b] - df_fe[r])\n",
    "df_fe.head()"
   ]
  },
  {
   "cell_type": "markdown",
   "metadata": {},
   "source": [
    "Using this procedure we created a few unfortunate columns we need to drop:\n",
    "- teamDiffExperienceDiff \n",
    "- teamDiffFirstBlood\n",
    "- teamDiffGoldDiff"
   ]
  },
  {
   "cell_type": "code",
   "execution_count": 36,
   "metadata": {},
   "outputs": [],
   "source": [
    "df_fe = df_fe.drop(columns=['teamDiffExperienceDiff', 'teamDiffFirstBlood', 'teamDiffGoldDiff'], axis=1)"
   ]
  },
  {
   "cell_type": "code",
   "execution_count": 38,
   "metadata": {},
   "outputs": [],
   "source": [
    "# Now we can drop the original red/blue features which don't provide more useful information (that the teamDiff variables); We are just\n",
    "# keeping blueFirstBlood / redFirstBlood in order to engineer later an 'EarlyGameLead' feature"
   ]
  },
  {
   "cell_type": "code",
   "execution_count": null,
   "metadata": {},
   "outputs": [],
   "source": []
  },
  {
   "cell_type": "code",
   "execution_count": null,
   "metadata": {},
   "outputs": [],
   "source": []
  }
 ],
 "metadata": {
  "kernelspec": {
   "display_name": "Python 3",
   "language": "python",
   "name": "python3"
  },
  "language_info": {
   "codemirror_mode": {
    "name": "ipython",
    "version": 3
   },
   "file_extension": ".py",
   "mimetype": "text/x-python",
   "name": "python",
   "nbconvert_exporter": "python",
   "pygments_lexer": "ipython3",
   "version": "3.8.3"
  },
  "varInspector": {
   "cols": {
    "lenName": 16,
    "lenType": 16,
    "lenVar": 40
   },
   "kernels_config": {
    "python": {
     "delete_cmd_postfix": "",
     "delete_cmd_prefix": "del ",
     "library": "var_list.py",
     "varRefreshCmd": "print(var_dic_list())"
    },
    "r": {
     "delete_cmd_postfix": ") ",
     "delete_cmd_prefix": "rm(",
     "library": "var_list.r",
     "varRefreshCmd": "cat(var_dic_list()) "
    }
   },
   "types_to_exclude": [
    "module",
    "function",
    "builtin_function_or_method",
    "instance",
    "_Feature"
   ],
   "window_display": false
  }
 },
 "nbformat": 4,
 "nbformat_minor": 4
}
